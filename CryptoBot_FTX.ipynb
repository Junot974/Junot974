{
  "nbformat": 4,
  "nbformat_minor": 0,
  "metadata": {
    "colab": {
      "name": "CryptoBot_FTX.ipynb",
      "provenance": [],
      "collapsed_sections": [],
      "authorship_tag": "ABX9TyPF6VODtXlO0h8+zn9nxZKB",
      "include_colab_link": true
    },
    "kernelspec": {
      "name": "python3",
      "display_name": "Python 3"
    },
    "language_info": {
      "name": "python"
    }
  },
  "cells": [
    {
      "cell_type": "markdown",
      "metadata": {
        "id": "view-in-github",
        "colab_type": "text"
      },
      "source": [
        "<a href=\"https://colab.research.google.com/github/Junot974/Junot974/blob/main/CryptoBot_FTX.ipynb\" target=\"_parent\"><img src=\"https://colab.research.google.com/assets/colab-badge.svg\" alt=\"Open In Colab\"/></a>"
      ]
    },
    {
      "cell_type": "code",
      "metadata": {
        "colab": {
          "base_uri": "https://localhost:8080/"
        },
        "id": "S9-9Uvrf8GVM",
        "outputId": "d59f04f5-1fef-4bee-c335-b0eef01f505a"
      },
      "source": [
        "pip install ftx"
      ],
      "execution_count": 9,
      "outputs": [
        {
          "output_type": "stream",
          "name": "stdout",
          "text": [
            "Requirement already satisfied: ftx in /usr/local/lib/python3.7/dist-packages (1.0.2)\n",
            "Requirement already satisfied: satoshi==0.1.3 in /usr/local/lib/python3.7/dist-packages (from ftx) (0.1.3)\n",
            "Requirement already satisfied: requests==2.23.0 in /usr/local/lib/python3.7/dist-packages (from ftx) (2.23.0)\n",
            "Requirement already satisfied: schedule==0.6.0 in /usr/local/lib/python3.7/dist-packages (from ftx) (0.6.0)\n",
            "Requirement already satisfied: chardet<4,>=3.0.2 in /usr/local/lib/python3.7/dist-packages (from requests==2.23.0->ftx) (3.0.4)\n",
            "Requirement already satisfied: idna<3,>=2.5 in /usr/local/lib/python3.7/dist-packages (from requests==2.23.0->ftx) (2.10)\n",
            "Requirement already satisfied: urllib3!=1.25.0,!=1.25.1,<1.26,>=1.21.1 in /usr/local/lib/python3.7/dist-packages (from requests==2.23.0->ftx) (1.24.3)\n",
            "Requirement already satisfied: certifi>=2017.4.17 in /usr/local/lib/python3.7/dist-packages (from requests==2.23.0->ftx) (2021.10.8)\n"
          ]
        }
      ]
    },
    {
      "cell_type": "code",
      "metadata": {
        "colab": {
          "base_uri": "https://localhost:8080/"
        },
        "id": "9r5JOYZR8b85",
        "outputId": "55952bcb-ffa1-4aae-bc2c-03a24f8e5e5d"
      },
      "source": [
        "pip install ciso8601"
      ],
      "execution_count": 10,
      "outputs": [
        {
          "output_type": "stream",
          "name": "stdout",
          "text": [
            "Requirement already satisfied: ciso8601 in /usr/local/lib/python3.7/dist-packages (2.2.0)\n"
          ]
        }
      ]
    },
    {
      "cell_type": "code",
      "metadata": {
        "colab": {
          "base_uri": "https://localhost:8080/"
        },
        "id": "yUm1ukXe8fYG",
        "outputId": "c8c4532b-1fd2-4066-a36a-4412305bf39b"
      },
      "source": [
        "pip install ta"
      ],
      "execution_count": 11,
      "outputs": [
        {
          "output_type": "stream",
          "name": "stdout",
          "text": [
            "Requirement already satisfied: ta in /usr/local/lib/python3.7/dist-packages (0.8.0)\n",
            "Requirement already satisfied: numpy in /usr/local/lib/python3.7/dist-packages (from ta) (1.19.5)\n",
            "Requirement already satisfied: pandas in /usr/local/lib/python3.7/dist-packages (from ta) (1.1.5)\n",
            "Requirement already satisfied: python-dateutil>=2.7.3 in /usr/local/lib/python3.7/dist-packages (from pandas->ta) (2.8.2)\n",
            "Requirement already satisfied: pytz>=2017.2 in /usr/local/lib/python3.7/dist-packages (from pandas->ta) (2018.9)\n",
            "Requirement already satisfied: six>=1.5 in /usr/local/lib/python3.7/dist-packages (from python-dateutil>=2.7.3->pandas->ta) (1.15.0)\n"
          ]
        }
      ]
    },
    {
      "cell_type": "code",
      "metadata": {
        "colab": {
          "base_uri": "https://localhost:8080/"
        },
        "id": "6raYGhEY8g9a",
        "outputId": "c662ce20-d252-40d1-b6b3-3d2e316abfdc"
      },
      "source": [
        "import ftx\n",
        "import pandas as pd\n",
        "import ta\n",
        "import time\n",
        "import json\n",
        "from math import *\n",
        "\n",
        "accountName = 'ETH_BOT_TRADE'\n",
        "pairSymbol = 'BTC/USD'\n",
        "fiatSymbol = 'USD'\n",
        "cryptoSymbol = 'BTC'\n",
        "myTruncate = 4\n",
        "\n",
        "client = ftx.FtxClient(api_key='VuHHsbHpW-g5Gcgu29hsUGTeX2HawoJGlkcDWNi4',\n",
        "                   api_secret='-WSAly_ovxm9SJoTgowjjbxcvyCy65aEjI7DjrXw', subaccount_name=accountName)\n",
        "\n",
        "data = client.get_historical_data(\n",
        "    market_name=pairSymbol, \n",
        "    resolution=3600, \n",
        "    limit=650, \n",
        "    start_time=float(\n",
        "    round(time.time()))-650*3600, \n",
        "    end_time=float(round(time.time())))\n",
        "df = pd.DataFrame(data)\n",
        "\n",
        "df['SMA200'] = ta.trend.sma_indicator(df['close'], 200)\n",
        "df['SMA600'] = ta.trend.sma_indicator(df['close'], 600)\n",
        "print(df)"
      ],
      "execution_count": 15,
      "outputs": [
        {
          "output_type": "stream",
          "name": "stdout",
          "text": [
            "                     startTime          time  ...     SMA200        SMA600\n",
            "0    2021-10-24T11:00:00+00:00  1.635073e+12  ...        NaN           NaN\n",
            "1    2021-10-24T12:00:00+00:00  1.635077e+12  ...        NaN           NaN\n",
            "2    2021-10-24T13:00:00+00:00  1.635080e+12  ...        NaN           NaN\n",
            "3    2021-10-24T14:00:00+00:00  1.635084e+12  ...        NaN           NaN\n",
            "4    2021-10-24T15:00:00+00:00  1.635088e+12  ...        NaN           NaN\n",
            "..                         ...           ...  ...        ...           ...\n",
            "645  2021-11-20T08:00:00+00:00  1.637395e+12  ...  61664.695  62317.328333\n",
            "646  2021-11-20T09:00:00+00:00  1.637399e+12  ...  61631.705  62310.431667\n",
            "647  2021-11-20T10:00:00+00:00  1.637402e+12  ...  61599.200  62302.968333\n",
            "648  2021-11-20T11:00:00+00:00  1.637406e+12  ...  61568.300  62296.171667\n",
            "649  2021-11-20T12:00:00+00:00  1.637410e+12  ...  61536.425  62289.708333\n",
            "\n",
            "[650 rows x 9 columns]\n"
          ]
        }
      ]
    },
    {
      "cell_type": "code",
      "metadata": {
        "colab": {
          "base_uri": "https://localhost:8080/",
          "height": 572
        },
        "id": "TNg_Ji_eGepo",
        "outputId": "bd110f39-6a3d-477a-ff5b-caca68513613"
      },
      "source": [
        "def getBalance(myclient, coin):\n",
        "    jsonBalance = myclient.get_balances()\n",
        "    pandaBalance = pd.DataFrame(jsonBalance)\n",
        "    if pandaBalance.loc[pandaBalance['Coin'] == coin].empty : return 0\n",
        "    else : return float(pandaBalance.loc[pandaBalance['coin'] == coin]['free'])\n",
        "\n",
        "def truncate(n, decimals=0):\n",
        "    r = floor(float(n)*10**decimals)/10**decimals\n",
        "    return str(r)\n",
        "    \n",
        "\n",
        "actualPrice = df['close'].iloc[-1]\n",
        "fiatAmount = getBalance(client, fiatSymbol)\n",
        "cryptoAmount = getBalance(client, cryptoSymbol)\n",
        "print(actualPrice, fiatAmount, cryptoAmount)"
      ],
      "execution_count": 17,
      "outputs": [
        {
          "output_type": "error",
          "ename": "KeyError",
          "evalue": "ignored",
          "traceback": [
            "\u001b[0;31m---------------------------------------------------------------------------\u001b[0m",
            "\u001b[0;31mKeyError\u001b[0m                                  Traceback (most recent call last)",
            "\u001b[0;32m/usr/local/lib/python3.7/dist-packages/pandas/core/indexes/base.py\u001b[0m in \u001b[0;36mget_loc\u001b[0;34m(self, key, method, tolerance)\u001b[0m\n\u001b[1;32m   2897\u001b[0m             \u001b[0;32mtry\u001b[0m\u001b[0;34m:\u001b[0m\u001b[0;34m\u001b[0m\u001b[0;34m\u001b[0m\u001b[0m\n\u001b[0;32m-> 2898\u001b[0;31m                 \u001b[0;32mreturn\u001b[0m \u001b[0mself\u001b[0m\u001b[0;34m.\u001b[0m\u001b[0m_engine\u001b[0m\u001b[0;34m.\u001b[0m\u001b[0mget_loc\u001b[0m\u001b[0;34m(\u001b[0m\u001b[0mcasted_key\u001b[0m\u001b[0;34m)\u001b[0m\u001b[0;34m\u001b[0m\u001b[0;34m\u001b[0m\u001b[0m\n\u001b[0m\u001b[1;32m   2899\u001b[0m             \u001b[0;32mexcept\u001b[0m \u001b[0mKeyError\u001b[0m \u001b[0;32mas\u001b[0m \u001b[0merr\u001b[0m\u001b[0;34m:\u001b[0m\u001b[0;34m\u001b[0m\u001b[0;34m\u001b[0m\u001b[0m\n",
            "\u001b[0;32mpandas/_libs/index.pyx\u001b[0m in \u001b[0;36mpandas._libs.index.IndexEngine.get_loc\u001b[0;34m()\u001b[0m\n",
            "\u001b[0;32mpandas/_libs/index.pyx\u001b[0m in \u001b[0;36mpandas._libs.index.IndexEngine.get_loc\u001b[0;34m()\u001b[0m\n",
            "\u001b[0;32mpandas/_libs/hashtable_class_helper.pxi\u001b[0m in \u001b[0;36mpandas._libs.hashtable.PyObjectHashTable.get_item\u001b[0;34m()\u001b[0m\n",
            "\u001b[0;32mpandas/_libs/hashtable_class_helper.pxi\u001b[0m in \u001b[0;36mpandas._libs.hashtable.PyObjectHashTable.get_item\u001b[0;34m()\u001b[0m\n",
            "\u001b[0;31mKeyError\u001b[0m: 'Coin'",
            "\nThe above exception was the direct cause of the following exception:\n",
            "\u001b[0;31mKeyError\u001b[0m                                  Traceback (most recent call last)",
            "\u001b[0;32m<ipython-input-17-3aaefbaa30a4>\u001b[0m in \u001b[0;36m<module>\u001b[0;34m()\u001b[0m\n\u001b[1;32m     11\u001b[0m \u001b[0;34m\u001b[0m\u001b[0m\n\u001b[1;32m     12\u001b[0m \u001b[0mactualPrice\u001b[0m \u001b[0;34m=\u001b[0m \u001b[0mdf\u001b[0m\u001b[0;34m[\u001b[0m\u001b[0;34m'close'\u001b[0m\u001b[0;34m]\u001b[0m\u001b[0;34m.\u001b[0m\u001b[0miloc\u001b[0m\u001b[0;34m[\u001b[0m\u001b[0;34m-\u001b[0m\u001b[0;36m1\u001b[0m\u001b[0;34m]\u001b[0m\u001b[0;34m\u001b[0m\u001b[0;34m\u001b[0m\u001b[0m\n\u001b[0;32m---> 13\u001b[0;31m \u001b[0mfiatAmount\u001b[0m \u001b[0;34m=\u001b[0m \u001b[0mgetBalance\u001b[0m\u001b[0;34m(\u001b[0m\u001b[0mclient\u001b[0m\u001b[0;34m,\u001b[0m \u001b[0mfiatSymbol\u001b[0m\u001b[0;34m)\u001b[0m\u001b[0;34m\u001b[0m\u001b[0;34m\u001b[0m\u001b[0m\n\u001b[0m\u001b[1;32m     14\u001b[0m \u001b[0mcryptoAmount\u001b[0m \u001b[0;34m=\u001b[0m \u001b[0mgetBalance\u001b[0m\u001b[0;34m(\u001b[0m\u001b[0mclient\u001b[0m\u001b[0;34m,\u001b[0m \u001b[0mcryptoSymbol\u001b[0m\u001b[0;34m)\u001b[0m\u001b[0;34m\u001b[0m\u001b[0;34m\u001b[0m\u001b[0m\n\u001b[1;32m     15\u001b[0m \u001b[0mprint\u001b[0m\u001b[0;34m(\u001b[0m\u001b[0mactualPrice\u001b[0m\u001b[0;34m,\u001b[0m \u001b[0mfiatAmount\u001b[0m\u001b[0;34m,\u001b[0m \u001b[0mcryptoAmount\u001b[0m\u001b[0;34m)\u001b[0m\u001b[0;34m\u001b[0m\u001b[0;34m\u001b[0m\u001b[0m\n",
            "\u001b[0;32m<ipython-input-17-3aaefbaa30a4>\u001b[0m in \u001b[0;36mgetBalance\u001b[0;34m(myclient, coin)\u001b[0m\n\u001b[1;32m      2\u001b[0m     \u001b[0mjsonBalance\u001b[0m \u001b[0;34m=\u001b[0m \u001b[0mmyclient\u001b[0m\u001b[0;34m.\u001b[0m\u001b[0mget_balances\u001b[0m\u001b[0;34m(\u001b[0m\u001b[0;34m)\u001b[0m\u001b[0;34m\u001b[0m\u001b[0;34m\u001b[0m\u001b[0m\n\u001b[1;32m      3\u001b[0m     \u001b[0mpandaBalance\u001b[0m \u001b[0;34m=\u001b[0m \u001b[0mpd\u001b[0m\u001b[0;34m.\u001b[0m\u001b[0mDataFrame\u001b[0m\u001b[0;34m(\u001b[0m\u001b[0mjsonBalance\u001b[0m\u001b[0;34m)\u001b[0m\u001b[0;34m\u001b[0m\u001b[0;34m\u001b[0m\u001b[0m\n\u001b[0;32m----> 4\u001b[0;31m     \u001b[0;32mif\u001b[0m \u001b[0mpandaBalance\u001b[0m\u001b[0;34m.\u001b[0m\u001b[0mloc\u001b[0m\u001b[0;34m[\u001b[0m\u001b[0mpandaBalance\u001b[0m\u001b[0;34m[\u001b[0m\u001b[0;34m'Coin'\u001b[0m\u001b[0;34m]\u001b[0m \u001b[0;34m==\u001b[0m \u001b[0mcoin\u001b[0m\u001b[0;34m]\u001b[0m\u001b[0;34m.\u001b[0m\u001b[0mempty\u001b[0m \u001b[0;34m:\u001b[0m \u001b[0;32mreturn\u001b[0m \u001b[0;36m0\u001b[0m\u001b[0;34m\u001b[0m\u001b[0;34m\u001b[0m\u001b[0m\n\u001b[0m\u001b[1;32m      5\u001b[0m     \u001b[0;32melse\u001b[0m \u001b[0;34m:\u001b[0m \u001b[0;32mreturn\u001b[0m \u001b[0mfloat\u001b[0m\u001b[0;34m(\u001b[0m\u001b[0mpandaBalance\u001b[0m\u001b[0;34m.\u001b[0m\u001b[0mloc\u001b[0m\u001b[0;34m[\u001b[0m\u001b[0mpandaBalance\u001b[0m\u001b[0;34m[\u001b[0m\u001b[0;34m'coin'\u001b[0m\u001b[0;34m]\u001b[0m \u001b[0;34m==\u001b[0m \u001b[0mcoin\u001b[0m\u001b[0;34m]\u001b[0m\u001b[0;34m[\u001b[0m\u001b[0;34m'free'\u001b[0m\u001b[0;34m]\u001b[0m\u001b[0;34m)\u001b[0m\u001b[0;34m\u001b[0m\u001b[0;34m\u001b[0m\u001b[0m\n\u001b[1;32m      6\u001b[0m \u001b[0;34m\u001b[0m\u001b[0m\n",
            "\u001b[0;32m/usr/local/lib/python3.7/dist-packages/pandas/core/frame.py\u001b[0m in \u001b[0;36m__getitem__\u001b[0;34m(self, key)\u001b[0m\n\u001b[1;32m   2904\u001b[0m             \u001b[0;32mif\u001b[0m \u001b[0mself\u001b[0m\u001b[0;34m.\u001b[0m\u001b[0mcolumns\u001b[0m\u001b[0;34m.\u001b[0m\u001b[0mnlevels\u001b[0m \u001b[0;34m>\u001b[0m \u001b[0;36m1\u001b[0m\u001b[0;34m:\u001b[0m\u001b[0;34m\u001b[0m\u001b[0;34m\u001b[0m\u001b[0m\n\u001b[1;32m   2905\u001b[0m                 \u001b[0;32mreturn\u001b[0m \u001b[0mself\u001b[0m\u001b[0;34m.\u001b[0m\u001b[0m_getitem_multilevel\u001b[0m\u001b[0;34m(\u001b[0m\u001b[0mkey\u001b[0m\u001b[0;34m)\u001b[0m\u001b[0;34m\u001b[0m\u001b[0;34m\u001b[0m\u001b[0m\n\u001b[0;32m-> 2906\u001b[0;31m             \u001b[0mindexer\u001b[0m \u001b[0;34m=\u001b[0m \u001b[0mself\u001b[0m\u001b[0;34m.\u001b[0m\u001b[0mcolumns\u001b[0m\u001b[0;34m.\u001b[0m\u001b[0mget_loc\u001b[0m\u001b[0;34m(\u001b[0m\u001b[0mkey\u001b[0m\u001b[0;34m)\u001b[0m\u001b[0;34m\u001b[0m\u001b[0;34m\u001b[0m\u001b[0m\n\u001b[0m\u001b[1;32m   2907\u001b[0m             \u001b[0;32mif\u001b[0m \u001b[0mis_integer\u001b[0m\u001b[0;34m(\u001b[0m\u001b[0mindexer\u001b[0m\u001b[0;34m)\u001b[0m\u001b[0;34m:\u001b[0m\u001b[0;34m\u001b[0m\u001b[0;34m\u001b[0m\u001b[0m\n\u001b[1;32m   2908\u001b[0m                 \u001b[0mindexer\u001b[0m \u001b[0;34m=\u001b[0m \u001b[0;34m[\u001b[0m\u001b[0mindexer\u001b[0m\u001b[0;34m]\u001b[0m\u001b[0;34m\u001b[0m\u001b[0;34m\u001b[0m\u001b[0m\n",
            "\u001b[0;32m/usr/local/lib/python3.7/dist-packages/pandas/core/indexes/base.py\u001b[0m in \u001b[0;36mget_loc\u001b[0;34m(self, key, method, tolerance)\u001b[0m\n\u001b[1;32m   2898\u001b[0m                 \u001b[0;32mreturn\u001b[0m \u001b[0mself\u001b[0m\u001b[0;34m.\u001b[0m\u001b[0m_engine\u001b[0m\u001b[0;34m.\u001b[0m\u001b[0mget_loc\u001b[0m\u001b[0;34m(\u001b[0m\u001b[0mcasted_key\u001b[0m\u001b[0;34m)\u001b[0m\u001b[0;34m\u001b[0m\u001b[0;34m\u001b[0m\u001b[0m\n\u001b[1;32m   2899\u001b[0m             \u001b[0;32mexcept\u001b[0m \u001b[0mKeyError\u001b[0m \u001b[0;32mas\u001b[0m \u001b[0merr\u001b[0m\u001b[0;34m:\u001b[0m\u001b[0;34m\u001b[0m\u001b[0;34m\u001b[0m\u001b[0m\n\u001b[0;32m-> 2900\u001b[0;31m                 \u001b[0;32mraise\u001b[0m \u001b[0mKeyError\u001b[0m\u001b[0;34m(\u001b[0m\u001b[0mkey\u001b[0m\u001b[0;34m)\u001b[0m \u001b[0;32mfrom\u001b[0m \u001b[0merr\u001b[0m\u001b[0;34m\u001b[0m\u001b[0;34m\u001b[0m\u001b[0m\n\u001b[0m\u001b[1;32m   2901\u001b[0m \u001b[0;34m\u001b[0m\u001b[0m\n\u001b[1;32m   2902\u001b[0m         \u001b[0;32mif\u001b[0m \u001b[0mtolerance\u001b[0m \u001b[0;32mis\u001b[0m \u001b[0;32mnot\u001b[0m \u001b[0;32mNone\u001b[0m\u001b[0;34m:\u001b[0m\u001b[0;34m\u001b[0m\u001b[0;34m\u001b[0m\u001b[0m\n",
            "\u001b[0;31mKeyError\u001b[0m: 'Coin'"
          ]
        }
      ]
    },
    {
      "cell_type": "code",
      "metadata": {
        "id": "a5LsophidRjM"
      },
      "source": [
        "if float(fiatAmount) > 5 and df['SMA200'].iloc[-2] > df['SMA600'].iloc[-2]:\n",
        "    quantityBuy = truncate(float(fiatAmount)/actualPrice, myTruncate)\n",
        "    buyOrder = client.place_order(\n",
        "        market=pairSymbol, \n",
        "        side=\"buy\", \n",
        "        price=None, \n",
        "        size=quantityBuy, \n",
        "        type='market')\n",
        "    print(buyOrder)\n",
        "\n",
        "if float(cryptoAmount) > 0.0001 and df['SMA200'].iloc[-2] < df['SMA600'].iloc[-2]:\n",
        "    buyOrder = client.place_order(\n",
        "        market=pairSymbol, \n",
        "        side=\"sell\", \n",
        "        price=None, \n",
        "        size=truncate(cryptoAmount, myTruncate), \n",
        "        type='market')\n",
        "    print(buyOrder)"
      ],
      "execution_count": null,
      "outputs": []
    },
    {
      "cell_type": "markdown",
      "metadata": {
        "id": "2vOCcFuXdhud"
      },
      "source": [
        "# **Full Code**"
      ]
    },
    {
      "cell_type": "code",
      "metadata": {
        "id": "EsHaKAsydSja"
      },
      "source": [
        "import ftx\n",
        "import pandas as pd\n",
        "import ta\n",
        "import time\n",
        "import json\n",
        "from math import *\n",
        "\n",
        "accountName = 'Ytb-Tester'\n",
        "pairSymbol = 'BTC/USD'\n",
        "fiatSymbol = 'USD'\n",
        "cryptoSymbol = 'BTC'\n",
        "myTruncate = 4\n",
        "\n",
        "client = ftx.FtxClient(api_key='VuHHsbHpW-g5Gcgu29hsUGTeX2HawoJGlkcDWNi4',\n",
        "                   api_secret='-WSAly_ovxm9SJoTgowjjbxcvyCy65aEjI7DjrXw', subaccount_name=accountName)\n",
        "\n",
        "data = client.get_historical_data(\n",
        "    market_name=pairSymbol, \n",
        "    resolution=3600, \n",
        "    limit=650, \n",
        "    start_time=float(\n",
        "    round(time.time()))-650*3600, \n",
        "    end_time=float(round(time.time())))\n",
        "df = pd.DataFrame(data)\n",
        "\n",
        "df['SMA200'] = ta.trend.sma_indicator(df['close'], 200)\n",
        "df['SMA600'] = ta.trend.sma_indicator(df['close'], 600)\n",
        "print(df)\n",
        "\n",
        "def getBalance(myclient, coin):\n",
        "    jsonBalance = myclient.get_balances()\n",
        "    pandaBalance = pd.DataFrame(jsonBalance)\n",
        "    if pandaBalance.loc[pandaBalance['coin'] == coin].empty : return 0\n",
        "    else : return float(pandaBalance.loc[pandaBalance['coin'] == coin]['free'])\n",
        "\n",
        "def truncate(n, decimals=0):\n",
        "    r = floor(float(n)*10**decimals)/10**decimals\n",
        "    return str(r)\n",
        "    \n",
        "\n",
        "actualPrice = df['close'].iloc[-1]\n",
        "fiatAmount = getBalance(client, fiatSymbol)\n",
        "cryptoAmount = getBalance(client, cryptoSymbol)\n",
        "print(actualPrice, fiatAmount, cryptoAmount)\n",
        "\n",
        "if float(fiatAmount) > 5 and df['SMA200'].iloc[-2] > df['SMA600'].iloc[-2]:\n",
        "    quantityBuy = truncate(float(fiatAmount)/actualPrice, myTruncate)\n",
        "    buyOrder = client.place_order(\n",
        "        market=pairSymbol, \n",
        "        side=\"buy\", \n",
        "        price=None, \n",
        "        size=quantityBuy, \n",
        "        type='market')\n",
        "    print(buyOrder)\n",
        "\n",
        "if float(cryptoAmount) > 0.0001 and df['SMA200'].iloc[-2] < df['SMA600'].iloc[-2]:\n",
        "    buyOrder = client.place_order(\n",
        "        market=pairSymbol, \n",
        "        side=\"sell\", \n",
        "        price=None, \n",
        "        size=truncate(cryptoAmount, myTruncate), \n",
        "        type='market')\n",
        "    print(buyOrder)"
      ],
      "execution_count": null,
      "outputs": []
    }
  ]
}